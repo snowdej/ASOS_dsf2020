{
 "cells": [
  {
   "cell_type": "markdown",
   "metadata": {
    "id": "W0k_MQUU3Uuk"
   },
   "source": [
    "# Data Science Festival x ASOS\n",
    "## Build and Deploy a Recommender System in 3 Hours."
   ]
  },
  {
   "cell_type": "markdown",
   "metadata": {
    "id": "K4QLH1qD3Uuk"
   },
   "source": [
    "# Imports"
   ]
  },
  {
   "cell_type": "code",
   "execution_count": 11,
   "metadata": {
    "id": "axUlWpsF3Uuk"
   },
   "outputs": [],
   "source": [
    "import numpy as np\n",
    "import pandas as pd\n",
    "import tensorflow as tf\n",
    "import os"
   ]
  },
  {
   "cell_type": "markdown",
   "metadata": {
    "id": "MOE-Ewuy3Uuk"
   },
   "source": [
    "# Import training data"
   ]
  },
  {
   "cell_type": "code",
   "execution_count": 12,
   "metadata": {
    "id": "digjuKq53Uuk"
   },
   "outputs": [],
   "source": [
    "train = pd.read_parquet(\"https://raw.githubusercontent.com/ASOS/dsf2020/main/dsf_asos_train_with_alphanumeric_dummy_ids.parquet\")\n",
    "valid = pd.read_parquet(\"https://raw.githubusercontent.com/ASOS/dsf2020/main/dsf_asos_valid_with_alphanumeric_dummy_ids.parquet\")\n",
    "dummy_users = pd.read_csv(\"https://raw.githubusercontent.com/ASOS/dsf2020/main/dsf_asos_dummy_users_with_alphanumeric_dummy_ids.csv\", header=None).values.flatten().astype(str)\n",
    "products = pd.read_csv(\"https://raw.githubusercontent.com/ASOS/dsf2020/main/dsf_asos_productIds.csv\", header=None).values.flatten().astype(int)\n",
    "\n",
    "\n",
    "\n"
   ]
  },
  {
   "cell_type": "code",
   "execution_count": 13,
   "metadata": {
    "colab": {
     "base_uri": "https://localhost:8080/",
     "height": 204
    },
    "id": "ijliZvbT3Uuk",
    "outputId": "c09cbf6e-902e-424b-957a-fc56cbc06eb8"
   },
   "outputs": [
    {
     "data": {
      "text/html": [
       "<div>\n",
       "<style scoped>\n",
       "    .dataframe tbody tr th:only-of-type {\n",
       "        vertical-align: middle;\n",
       "    }\n",
       "\n",
       "    .dataframe tbody tr th {\n",
       "        vertical-align: top;\n",
       "    }\n",
       "\n",
       "    .dataframe thead th {\n",
       "        text-align: right;\n",
       "    }\n",
       "</style>\n",
       "<table border=\"1\" class=\"dataframe\">\n",
       "  <thead>\n",
       "    <tr style=\"text-align: right;\">\n",
       "      <th></th>\n",
       "      <th>dummyUserId</th>\n",
       "      <th>productId</th>\n",
       "    </tr>\n",
       "  </thead>\n",
       "  <tbody>\n",
       "    <tr>\n",
       "      <th>0</th>\n",
       "      <td>b'PIXcm7Ru5KmntCy0yA1K'</td>\n",
       "      <td>10524048</td>\n",
       "    </tr>\n",
       "    <tr>\n",
       "      <th>1</th>\n",
       "      <td>b'd0RILFB1hUzNSINMY4Ow'</td>\n",
       "      <td>9137713</td>\n",
       "    </tr>\n",
       "    <tr>\n",
       "      <th>2</th>\n",
       "      <td>b'Ebax7lyhnKRm4xeRlWW2'</td>\n",
       "      <td>5808602</td>\n",
       "    </tr>\n",
       "    <tr>\n",
       "      <th>3</th>\n",
       "      <td>b'vtigDw2h2vxKt0sJpEeU'</td>\n",
       "      <td>10548272</td>\n",
       "    </tr>\n",
       "    <tr>\n",
       "      <th>4</th>\n",
       "      <td>b'r4GfiEaUGxziyjX0PyU6'</td>\n",
       "      <td>10988173</td>\n",
       "    </tr>\n",
       "  </tbody>\n",
       "</table>\n",
       "</div>"
      ],
      "text/plain": [
       "               dummyUserId  productId\n",
       "0  b'PIXcm7Ru5KmntCy0yA1K'   10524048\n",
       "1  b'd0RILFB1hUzNSINMY4Ow'    9137713\n",
       "2  b'Ebax7lyhnKRm4xeRlWW2'    5808602\n",
       "3  b'vtigDw2h2vxKt0sJpEeU'   10548272\n",
       "4  b'r4GfiEaUGxziyjX0PyU6'   10988173"
      ]
     },
     "execution_count": 13,
     "metadata": {},
     "output_type": "execute_result"
    }
   ],
   "source": [
    "train.head()"
   ]
  },
  {
   "cell_type": "markdown",
   "metadata": {
    "id": "ni1d2Y9u3Uul"
   },
   "source": [
    "# Define a Recommender Model"
   ]
  },
  {
   "cell_type": "markdown",
   "metadata": {
    "id": "jfD9Izjg3Uul"
   },
   "source": [
    "The embedding layer gives a list of random numbers for each user and each product."
   ]
  },
  {
   "cell_type": "code",
   "execution_count": 14,
   "metadata": {
    "colab": {
     "base_uri": "https://localhost:8080/"
    },
    "id": "nuoo3XmF3Uul",
    "outputId": "86efa7d4-257d-44ad-ffb3-8d23d95c60b8"
   },
   "outputs": [
    {
     "data": {
      "text/plain": [
       "array([ 8650774,  9306139,  9961521, ..., 12058614, 12058615, 11927550])"
      ]
     },
     "execution_count": 14,
     "metadata": {},
     "output_type": "execute_result"
    }
   ],
   "source": [
    "products"
   ]
  },
  {
   "cell_type": "markdown",
   "metadata": {
    "id": "VNAY-ZSN3Uul"
   },
   "source": [
    "Scores can be found using the dot product."
   ]
  },
  {
   "cell_type": "code",
   "execution_count": 15,
   "metadata": {
    "colab": {
     "base_uri": "https://localhost:8080/"
    },
    "id": "Yie_Z6RY3Uul",
    "outputId": "41a19707-99bf-4f3a-d6ea-affce192aeba"
   },
   "outputs": [
    {
     "data": {
      "text/plain": [
       "array(['pmfkU4BNZhmtLgJQwJ7x', 'UDRRwOlzlWVbu7H8YCCi',\n",
       "       'QHGAef0TI6dhn0wTogvW', ..., 'lcORJ5hemOZc1iGo9z7k',\n",
       "       '5CqDquDAszqJp27P7AL8', 'SSPNYxJMfuKhoe1dg24m'], dtype='<U20')"
      ]
     },
     "execution_count": 15,
     "metadata": {},
     "output_type": "execute_result"
    }
   ],
   "source": [
    "dummy_users"
   ]
  },
  {
   "cell_type": "code",
   "execution_count": null,
   "metadata": {},
   "outputs": [],
   "source": []
  },
  {
   "cell_type": "code",
   "execution_count": 16,
   "metadata": {
    "id": "4oCCXZes3Uul"
   },
   "outputs": [],
   "source": [
    "class SimpleRecommender(tf.keras.Model):\n",
    "    def __init__(self, dummy_users, products,length_of_embedding):\n",
    "        super(SimpleRecommender, self).__init__()\n",
    "        self.products = tf.constant(products, dtype=tf.int32)\n",
    "        self.dummy_users = tf.constant(dummy_users, dtype=tf.string)\n",
    "        self.dummy_user_table = tf.lookup.StaticHashTable(tf.lookup.KeyValueTensorInitializer(self.dummy_users, range(len(dummy_users))), -1)\n",
    "        self.product_table = tf.lookup.StaticHashTable(tf.lookup.KeyValueTensorInitializer(self.products, range(len(products))), -1)\n",
    "        \n",
    "        self.user_embedding = tf.keras.layers.Embedding(len(dummy_users), length_of_embedding)\n",
    "        self.product_embedding = tf.keras.layers.Embedding(len(products), length_of_embedding)\n",
    "        \n",
    "        self.dot = tf.keras.layers.Dot(axes=-1)\n",
    "\n",
    "    def call(self,inputs):\n",
    "        user = inputs[0]\n",
    "        products = inputs[1]\n",
    "        \n",
    "        user_embedding_index = self.dummy_user_table.lookup(user)\n",
    "        product_embedding_index = self.product_table.lookup(products)\n",
    "\n",
    "        user_embedding_values = self.user_embedding(user_embedding_index)\n",
    "        product_embedding_values = self.product_embedding(product_embedding_index)\n",
    "\n",
    "        return tf.squeeze(self.dot([user_embedding_values,product_embedding_values]),1)\n",
    "\n",
    "\n",
    "    @tf.function\n",
    "    def call_item_item(self, product):\n",
    "        product_x = self.product_table.lookup(product)\n",
    "        pe = tf.expand_dims(self.product_embedding(product_x), 0)\n",
    "        \n",
    "        all_pe = tf.expand_dims(self.product_embedding.embeddings, 0)#note this only works if the layer has been built!\n",
    "        scores = tf.reshape(self.dot([pe, all_pe]), [-1])\n",
    "        \n",
    "        top_scores, top_indices = tf.math.top_k(scores, k=100)\n",
    "        top_ids = tf.gather(self.products, top_indices)\n",
    "        return top_ids, top_scores"
   ]
  },
  {
   "cell_type": "code",
   "execution_count": null,
   "metadata": {
    "id": "zwXITEGZ0TPW"
   },
   "outputs": [],
   "source": []
  },
  {
   "cell_type": "markdown",
   "metadata": {
    "id": "bw9RmUOB3Uul"
   },
   "source": [
    "# Creating a dataset"
   ]
  },
  {
   "cell_type": "markdown",
   "metadata": {
    "id": "H-KJn79n3Uul"
   },
   "source": [
    "First create a tf.data.Dataset from the user purchase pairs."
   ]
  },
  {
   "cell_type": "code",
   "execution_count": 17,
   "metadata": {
    "colab": {
     "base_uri": "https://localhost:8080/"
    },
    "id": "CB1TK3bb3Uum",
    "outputId": "535d73b1-1210-4103-a538-b29449b30aec"
   },
   "outputs": [
    {
     "name": "stdout",
     "output_type": "stream",
     "text": [
      "tf.Tensor([b'PIXcm7Ru5KmntCy0yA1K'], shape=(1,), dtype=string)\n",
      "tf.Tensor([10524048], shape=(1,), dtype=int32)\n"
     ]
    }
   ],
   "source": [
    "dummy_user_tensor = tf.constant(train[[\"dummyUserId\"]].values, dtype=tf.string)\n",
    "product_tensor = tf.constant(train[[\"productId\"]].values, dtype=tf.int32)\n",
    "\n",
    "dataset = tf.data.Dataset.from_tensor_slices((dummy_user_tensor, product_tensor))\n",
    "for x, y in dataset:\n",
    "    print(x)\n",
    "    print(y)\n",
    "    break"
   ]
  },
  {
   "cell_type": "markdown",
   "metadata": {
    "id": "672d1XTl3Uum"
   },
   "source": [
    "For each purchase let's sample a number of products that the user did not purchase. Then the model can score each of the products and we will know we are doing a good job if the product with the highest score is the product that the user actually purchased.\n",
    "\n",
    "We can do this using dataset.map"
   ]
  },
  {
   "cell_type": "code",
   "execution_count": null,
   "metadata": {
    "id": "6Py7ZqoH6pa9"
   },
   "outputs": [],
   "source": []
  },
  {
   "cell_type": "code",
   "execution_count": 18,
   "metadata": {
    "id": "m6PWkSJR3Uum"
   },
   "outputs": [],
   "source": [
    "class Mapper():\n",
    "    \n",
    "    def __init__(self, possible_products, num_negative_products):\n",
    "        self.num_possible_products = len(possible_products)\n",
    "        self.possible_products_tensor = tf.constant(possible_products, dtype=tf.int32)\n",
    "        \n",
    "        self.num_negative_products = num_negative_products\n",
    "        #create array of 1,0,0,0,0++  for the array of one product user bought and 10 they didnt (hence +1)\n",
    "        self.y = tf.one_hot(0, num_negative_products+1)\n",
    "    \n",
    "    def __call__(self, user, product):\n",
    "        random_negatives_indexs = tf.random.uniform((self.num_negative_products, ), minval = 0, maxval = self.num_possible_products, dtype=tf.int32)\n",
    "        negatives = tf.gather(self.possible_products_tensor,random_negatives_indexs)\n",
    "        candidates = tf.concat([product, negatives],axis=0)\n",
    "        return (user, candidates), self.y"
   ]
  },
  {
   "cell_type": "code",
   "execution_count": 19,
   "metadata": {
    "colab": {
     "base_uri": "https://localhost:8080/"
    },
    "id": "fogF-koV8pLr",
    "outputId": "2ce28590-1db9-44e2-b546-286b88e784b5"
   },
   "outputs": [
    {
     "name": "stdout",
     "output_type": "stream",
     "text": [
      "(<tf.Tensor: shape=(1,), dtype=string, numpy=array([b'PIXcm7Ru5KmntCy0yA1K'], dtype=object)>, <tf.Tensor: shape=(11,), dtype=int32, numpy=\n",
      "array([10524048, 11082655, 10990900, 12783338, 11498206, 11935504,\n",
      "       10018416, 10814731,  9006314,  8874164, 11458167], dtype=int32)>)\n",
      "tf.Tensor([1. 0. 0. 0. 0. 0. 0. 0. 0. 0. 0.], shape=(11,), dtype=float32)\n",
      "tf.Tensor([10524048], shape=(1,), dtype=int32)\n"
     ]
    }
   ],
   "source": [
    "#get a list per user that has one product they did buy and x (10 in this case) that they DID NOT buy\n",
    "dataset = tf.data.Dataset.from_tensor_slices((dummy_user_tensor, product_tensor)).map(Mapper(products,10))\n",
    "for u, c in dataset:\n",
    "  print(u)\n",
    "  print(c)\n",
    "  print (y)\n",
    "  break\n"
   ]
  },
  {
   "cell_type": "code",
   "execution_count": null,
   "metadata": {
    "id": "ANoULDfW9V13"
   },
   "outputs": [],
   "source": []
  },
  {
   "cell_type": "markdown",
   "metadata": {
    "id": "mJcrXaq_3Uum"
   },
   "source": [
    "Let's bring the steps together to define a function which creates a dataset "
   ]
  },
  {
   "cell_type": "code",
   "execution_count": 20,
   "metadata": {
    "id": "GtwNDmVl3Uum"
   },
   "outputs": [],
   "source": [
    "def get_dataset(df,products, num_negative_products):\n",
    "    dummy_user_tensor = tf.constant(df[[\"dummyUserId\"]].values, dtype=tf.string)\n",
    "    product_tensor = tf.constant(df[[\"productId\"]].values, dtype=tf.int32)\n",
    "\n",
    "    dataset = tf.data.Dataset.from_tensor_slices((dummy_user_tensor,product_tensor))\n",
    "    dataset = dataset.map(Mapper(products,num_negative_products))\n",
    "    \n",
    "    dataset = dataset.batch(1024)\n",
    "    return dataset"
   ]
  },
  {
   "cell_type": "code",
   "execution_count": 21,
   "metadata": {
    "colab": {
     "base_uri": "https://localhost:8080/"
    },
    "id": "gKIILwAx_m09",
    "outputId": "3ba225aa-a2d8-42ac-8c90-cec1b0a8d85d"
   },
   "outputs": [
    {
     "name": "stdout",
     "output_type": "stream",
     "text": [
      "tf.Tensor(\n",
      "[[b'PIXcm7Ru5KmntCy0yA1K']\n",
      " [b'd0RILFB1hUzNSINMY4Ow']\n",
      " [b'Ebax7lyhnKRm4xeRlWW2']\n",
      " ...\n",
      " [b'xuX9n8PHfSR0AP3UZ8ar']\n",
      " [b'iNnxsPFfOa9884fMjVPJ']\n",
      " [b'aD8Mn12im8lFPzXAY41P']], shape=(1024, 1), dtype=string)\n",
      "tf.Tensor(\n",
      "[[10524048 11424849 11662619 10758976  8504860]\n",
      " [ 9137713 11973720 11551232 11701198 11137858]\n",
      " [ 5808602  8919328 10260360 13546263 13668234]\n",
      " ...\n",
      " [11541336  9818830 11253897  9145603 10102239]\n",
      " [ 7779232 10805315 11473322 12358829  9230958]\n",
      " [ 4941259  8159622  7695747 12470719 10879986]], shape=(1024, 5), dtype=int32)\n",
      "tf.Tensor(\n",
      "[[1. 0. 0. 0. 0.]\n",
      " [1. 0. 0. 0. 0.]\n",
      " [1. 0. 0. 0. 0.]\n",
      " ...\n",
      " [1. 0. 0. 0. 0.]\n",
      " [1. 0. 0. 0. 0.]\n",
      " [1. 0. 0. 0. 0.]], shape=(1024, 5), dtype=float32)\n"
     ]
    }
   ],
   "source": [
    "#test dataset function\n",
    "for (u, c),y in get_dataset(train, products,4):\n",
    "  print(u)\n",
    "  print(c)\n",
    "  print(y)\n",
    "  break"
   ]
  },
  {
   "cell_type": "markdown",
   "metadata": {
    "id": "JY0qQ-kV3Uum"
   },
   "source": [
    "# Train a model"
   ]
  },
  {
   "cell_type": "markdown",
   "metadata": {
    "id": "3QSmoPnY3Uum"
   },
   "source": [
    "We need to compile a model, set the loss and create an evaluation metric. Then we need to train the model."
   ]
  },
  {
   "cell_type": "code",
   "execution_count": 22,
   "metadata": {
    "colab": {
     "base_uri": "https://localhost:8080/"
    },
    "id": "_qHY9VQL3Uum",
    "outputId": "240149b2-d303-4ef5-f312-6910451c10ea"
   },
   "outputs": [
    {
     "name": "stdout",
     "output_type": "stream",
     "text": [
      "Epoch 1/3\n",
      "162/162 [==============================] - 40s 245ms/step - loss: 4.6151 - categorical_accuracy: 0.0132 - val_loss: 4.6151 - val_categorical_accuracy: 0.0178\n",
      "Epoch 2/3\n",
      "162/162 [==============================] - 40s 246ms/step - loss: 4.6120 - categorical_accuracy: 0.0821 - val_loss: 4.6147 - val_categorical_accuracy: 0.0450\n",
      "Epoch 3/3\n",
      "162/162 [==============================] - 40s 246ms/step - loss: 4.5993 - categorical_accuracy: 0.1905 - val_loss: 4.6054 - val_categorical_accuracy: 0.0747\n"
     ]
    },
    {
     "data": {
      "text/plain": [
       "<tensorflow.python.keras.callbacks.History at 0x7f8ea1342c88>"
      ]
     },
     "execution_count": 22,
     "metadata": {},
     "output_type": "execute_result"
    }
   ],
   "source": [
    "model = SimpleRecommender(dummy_users, products,15)\n",
    "\n",
    "model.compile(loss = tf.keras.losses.CategoricalCrossentropy(from_logits=True),\n",
    "              optimizer = tf.keras.optimizers.SGD(learning_rate=100.),\n",
    "              metrics = [tf.keras.metrics.CategoricalAccuracy()] ) \n",
    "\n",
    "model.fit(get_dataset(train, products, 100), validation_data= get_dataset(valid,products,100), epochs=5)\n"
   ]
  },
  {
   "cell_type": "markdown",
   "metadata": {
    "id": "p-JZ1YxD3Uum"
   },
   "source": [
    "Let's do a manual check on whether the model is any good."
   ]
  },
  {
   "cell_type": "code",
   "execution_count": 23,
   "metadata": {
    "id": "cr_y_iQ23Uum"
   },
   "outputs": [],
   "source": [
    "test_product = 11698965"
   ]
  },
  {
   "cell_type": "code",
   "execution_count": 24,
   "metadata": {
    "colab": {
     "base_uri": "https://localhost:8080/"
    },
    "id": "bZ6ZIXEI3Uum",
    "outputId": "a0f53dea-286b-4e2d-a0a9-07a8a36f19cc"
   },
   "outputs": [
    {
     "name": "stdout",
     "output_type": "stream",
     "text": [
      "Recs for item 11698965: (<tf.Tensor: shape=(100,), dtype=int32, numpy=\n",
      "array([10402703, 11221174, 10309914, 10635879,  8603141,  9586825,\n",
      "        8904051,  5801178,  9690295, 11398199, 10563199, 10581393,\n",
      "        9586832, 11210565, 10637119, 10353428,  5026837, 11402965,\n",
      "       10716895, 10439343, 10309915, 10636194,  9565144, 12030039,\n",
      "        8811498,  9137744,  8873143, 10644438, 10598918, 10512479,\n",
      "       10308557,  9020671,  8426701, 10269381,  9393295, 10326351,\n",
      "       11251463,  9992295, 12241759, 12387488, 10395716, 12377314,\n",
      "       10715863, 10835538,  9690303,  9427227,  9453604,  9400604,\n",
      "       10062595,  8745098, 10636466, 11344538,  9923669, 10735521,\n",
      "        8875455, 10413104,  3421877, 11953944, 10867467, 11364726,\n",
      "        9419651, 10636398, 11937479, 11406629,  8469882, 10475476,\n",
      "        2636617, 10571852,  7415117, 11141217, 10253001, 10796010,\n",
      "        9686943,  9398510,  7289381, 12555488,  8978987, 11078754,\n",
      "        9528209, 10261983,  9044706, 11076509, 10636469, 10635882,\n",
      "       11582314, 10389082,  8064079, 10635861, 12062981, 10332549,\n",
      "       10835537, 11124387, 10298955, 11198969, 10309778, 12286648,\n",
      "       12542599,  9859880, 10165507, 11065674], dtype=int32)>, <tf.Tensor: shape=(100,), dtype=float32, numpy=\n",
      "array([0.11165417, 0.09083594, 0.08561923, 0.07583136, 0.05261399,\n",
      "       0.05257049, 0.04712329, 0.04666693, 0.04663431, 0.04579388,\n",
      "       0.04528304, 0.04275142, 0.04271699, 0.04096704, 0.04021372,\n",
      "       0.03971551, 0.03942612, 0.03866928, 0.03852654, 0.03779379,\n",
      "       0.03750802, 0.03720179, 0.03493024, 0.03351872, 0.0333391 ,\n",
      "       0.03283032, 0.03136122, 0.03119583, 0.03110014, 0.03089478,\n",
      "       0.03085935, 0.030209  , 0.02969012, 0.02919671, 0.02811135,\n",
      "       0.02789613, 0.02744324, 0.02734354, 0.02699361, 0.02651812,\n",
      "       0.02649594, 0.02643242, 0.0262932 , 0.02620788, 0.02576713,\n",
      "       0.02574198, 0.02567899, 0.02556243, 0.02497301, 0.02495877,\n",
      "       0.02463728, 0.02435159, 0.02414948, 0.02413344, 0.02360926,\n",
      "       0.02334871, 0.02330692, 0.02284002, 0.02280637, 0.0225532 ,\n",
      "       0.02219176, 0.02180845, 0.02170287, 0.02166436, 0.02140022,\n",
      "       0.02137382, 0.02126839, 0.02108204, 0.02092976, 0.02089576,\n",
      "       0.02083475, 0.0207791 , 0.02071924, 0.02055333, 0.02047709,\n",
      "       0.02040816, 0.02039872, 0.0203684 , 0.02035801, 0.02003954,\n",
      "       0.01999959, 0.01994612, 0.01993259, 0.01971403, 0.01934741,\n",
      "       0.01922501, 0.01910246, 0.01909994, 0.0190022 , 0.01897026,\n",
      "       0.01896266, 0.0189231 , 0.01889515, 0.0187366 , 0.01865218,\n",
      "       0.01865077, 0.01844011, 0.01809501, 0.01799648, 0.01799414],\n",
      "      dtype=float32)>)\n"
     ]
    }
   ],
   "source": [
    "print(\"Recs for item {}: {}\".format(test_product, model.call_item_item(tf.constant(test_product, dtype=tf.int32))))"
   ]
  },
  {
   "cell_type": "markdown",
   "metadata": {
    "id": "7J4DtFSD3Uum"
   },
   "source": [
    "# Save the model"
   ]
  },
  {
   "cell_type": "code",
   "execution_count": 25,
   "metadata": {
    "id": "JooNIutD3Uum"
   },
   "outputs": [],
   "source": [
    "model_path = \"models/recommender/2\""
   ]
  },
  {
   "cell_type": "code",
   "execution_count": 26,
   "metadata": {
    "id": "2z74VP1y3Uum"
   },
   "outputs": [],
   "source": [
    "inpute_signature = tf.TensorSpec(shape=(), dtype=tf.int32)"
   ]
  },
  {
   "cell_type": "code",
   "execution_count": 27,
   "metadata": {
    "id": "cbvovOUw3Uum"
   },
   "outputs": [],
   "source": [
    "signatures = { 'call_item_item': model.call_item_item.get_concrete_function(inpute_signature)}"
   ]
  },
  {
   "cell_type": "code",
   "execution_count": 28,
   "metadata": {
    "colab": {
     "base_uri": "https://localhost:8080/"
    },
    "id": "MyD4vrs53Uum",
    "outputId": "d1c630e3-c0b9-4669-e758-0826c3a96ee4"
   },
   "outputs": [
    {
     "name": "stdout",
     "output_type": "stream",
     "text": [
      "WARNING:tensorflow:From /usr/local/lib/python3.6/dist-packages/tensorflow/python/training/tracking/tracking.py:111: Model.state_updates (from tensorflow.python.keras.engine.training) is deprecated and will be removed in a future version.\n",
      "Instructions for updating:\n",
      "This property should not be used in TensorFlow 2.0, as updates are applied automatically.\n",
      "WARNING:tensorflow:From /usr/local/lib/python3.6/dist-packages/tensorflow/python/training/tracking/tracking.py:111: Layer.updates (from tensorflow.python.keras.engine.base_layer) is deprecated and will be removed in a future version.\n",
      "Instructions for updating:\n",
      "This property should not be used in TensorFlow 2.0, as updates are applied automatically.\n",
      "INFO:tensorflow:Assets written to: models/recommender/5/assets\n"
     ]
    }
   ],
   "source": [
    "tf.saved_model.save(model, model_path,signatures=signatures)"
   ]
  },
  {
   "cell_type": "code",
   "execution_count": 29,
   "metadata": {
    "colab": {
     "base_uri": "https://localhost:8080/",
     "height": 324
    },
    "id": "G380cP-Z3Uum",
    "outputId": "ff0da365-a895-4be1-c5be-7ac96aba9280"
   },
   "outputs": [
    {
     "data": {
      "text/plain": [
       "['call_item_item']"
      ]
     },
     "execution_count": 29,
     "metadata": {},
     "output_type": "execute_result"
    }
   ],
   "source": [
    "imported_model = tf.saved_model.load(model_path )\n",
    "\n",
    "list(imported_model.signatures.keys())\n"
   ]
  },
  {
   "cell_type": "code",
   "execution_count": 30,
   "metadata": {
    "colab": {
     "base_uri": "https://localhost:8080/",
     "height": 164
    },
    "id": "dxTfwJ_t3Uum",
    "outputId": "91511b31-9b89-483d-80bd-baaf6a4701f1"
   },
   "outputs": [
    {
     "name": "stdout",
     "output_type": "stream",
     "text": [
      "WARNING:tensorflow:5 out of the last 5 calls to <function recreate_function.<locals>.restored_function_body at 0x7f8ea009fc80> triggered tf.function retracing. Tracing is expensive and the excessive number of tracings could be due to (1) creating @tf.function repeatedly in a loop, (2) passing tensors with different shapes, (3) passing Python objects instead of tensors. For (1), please define your @tf.function outside of the loop. For (2), @tf.function has experimental_relax_shapes=True option that relaxes argument shapes that can avoid unnecessary retracing. For (3), please refer to https://www.tensorflow.org/tutorials/customization/performance#python_or_tensor_args and https://www.tensorflow.org/api_docs/python/tf/function for  more details.\n",
      "Recs for item 11698965: (<tf.Tensor: shape=(100,), dtype=int32, numpy=\n",
      "array([10402703, 11221174, 10309914, 10635879,  8603141,  9586825,\n",
      "        8904051,  5801178,  9690295, 11398199, 10563199, 10581393,\n",
      "        9586832, 11210565, 10637119, 10353428,  5026837, 11402965,\n",
      "       10716895, 10439343, 10309915, 10636194,  9565144, 12030039,\n",
      "        8811498,  9137744,  8873143, 10644438, 10598918, 10512479,\n",
      "       10308557,  9020671,  8426701, 10269381,  9393295, 10326351,\n",
      "       11251463,  9992295, 12241759, 12387488, 10395716, 12377314,\n",
      "       10715863, 10835538,  9690303,  9427227,  9453604,  9400604,\n",
      "       10062595,  8745098, 10636466, 11344538,  9923669, 10735521,\n",
      "        8875455, 10413104,  3421877, 11953944, 10867467, 11364726,\n",
      "        9419651, 10636398, 11937479, 11406629,  8469882, 10475476,\n",
      "        2636617, 10571852,  7415117, 11141217, 10253001, 10796010,\n",
      "        9686943,  9398510,  7289381, 12555488,  8978987, 11078754,\n",
      "        9528209, 10261983,  9044706, 11076509, 10636469, 10635882,\n",
      "       11582314, 10389082,  8064079, 10635861, 12062981, 10332549,\n",
      "       10835537, 11124387, 10298955, 11198969, 10309778, 12286648,\n",
      "       12542599,  9859880, 10165507, 11065674], dtype=int32)>, <tf.Tensor: shape=(100,), dtype=float32, numpy=\n",
      "array([0.11165417, 0.09083594, 0.08561923, 0.07583136, 0.05261399,\n",
      "       0.05257049, 0.04712329, 0.04666693, 0.04663431, 0.04579388,\n",
      "       0.04528304, 0.04275142, 0.04271699, 0.04096704, 0.04021372,\n",
      "       0.03971551, 0.03942612, 0.03866928, 0.03852654, 0.03779379,\n",
      "       0.03750802, 0.03720179, 0.03493024, 0.03351872, 0.0333391 ,\n",
      "       0.03283032, 0.03136122, 0.03119583, 0.03110014, 0.03089478,\n",
      "       0.03085935, 0.030209  , 0.02969012, 0.02919671, 0.02811135,\n",
      "       0.02789613, 0.02744324, 0.02734354, 0.02699361, 0.02651812,\n",
      "       0.02649594, 0.02643242, 0.0262932 , 0.02620788, 0.02576713,\n",
      "       0.02574198, 0.02567899, 0.02556243, 0.02497301, 0.02495877,\n",
      "       0.02463728, 0.02435159, 0.02414948, 0.02413344, 0.02360926,\n",
      "       0.02334871, 0.02330692, 0.02284002, 0.02280637, 0.0225532 ,\n",
      "       0.02219176, 0.02180845, 0.02170287, 0.02166436, 0.02140022,\n",
      "       0.02137382, 0.02126839, 0.02108204, 0.02092976, 0.02089576,\n",
      "       0.02083475, 0.0207791 , 0.02071924, 0.02055333, 0.02047709,\n",
      "       0.02040816, 0.02039872, 0.0203684 , 0.02035801, 0.02003954,\n",
      "       0.01999959, 0.01994612, 0.01993259, 0.01971403, 0.01934741,\n",
      "       0.01922501, 0.01910246, 0.01909994, 0.0190022 , 0.01897026,\n",
      "       0.01896266, 0.0189231 , 0.01889515, 0.0187366 , 0.01865218,\n",
      "       0.01865077, 0.01844011, 0.01809501, 0.01799648, 0.01799414],\n",
      "      dtype=float32)>)\n"
     ]
    }
   ],
   "source": [
    "test_product = 11698965\n",
    "\n",
    "print(\"Recs for item {}: {}\".format(test_product, imported_model.call_item_item(tf.constant(test_product, dtype=tf.int32))))\n",
    "\n",
    "\n"
   ]
  },
  {
   "cell_type": "code",
   "execution_count": 31,
   "metadata": {
    "id": "F-O2NniT3Uum"
   },
   "outputs": [
    {
     "name": "stdout",
     "output_type": "stream",
     "text": [
      "{\r\n",
      "    \"outputs\": {\r\n",
      "        \"output_0\": [\r\n",
      "            10308818,\r\n",
      "            10308557,\r\n",
      "            10563215,\r\n",
      "            10309914,\r\n",
      "            10563199,\r\n",
      "            9775640,\r\n",
      "            7777858,\r\n",
      "            9276055,\r\n",
      "            11828336,\r\n",
      "            10402698,\r\n",
      "            9099410,\r\n",
      "            10309924,\r\n",
      "            10635862,\r\n",
      "            11344122,\r\n",
      "            9110939,\r\n",
      "            8745086,\r\n",
      "            11771631,\r\n",
      "            10637119,\r\n",
      "            6429322,\r\n",
      "            12360115,\r\n",
      "            10366062,\r\n",
      "            9586832,\r\n",
      "            12387488,\r\n",
      "            10565130,\r\n",
      "            6744223,\r\n",
      "            11171018,\r\n",
      "            11002791,\r\n",
      "            11801850,\r\n",
      "            10366082,\r\n",
      "            10054584,\r\n",
      "            8290000,\r\n",
      "            8064082,\r\n",
      "            10573792,\r\n",
      "            11234611,\r\n",
      "            9655345,\r\n",
      "            11251463,\r\n",
      "            11352144,\r\n",
      "            10386518,\r\n",
      "            10309920,\r\n",
      "            9586825,\r\n",
      "            11667521,\r\n",
      "            8745089,\r\n",
      "            11759940,\r\n",
      "            10563207,\r\n",
      "            7134751,\r\n",
      "            11140777,\r\n",
      "            10571453,\r\n",
      "            11396955,\r\n",
      "            11462637,\r\n",
      "            9775636,\r\n",
      "            7039647,\r\n",
      "            10912244,\r\n",
      "            9745750,\r\n",
      "            8139666,\r\n",
      "            12772159,\r\n",
      "            10309923,\r\n",
      "            10835862,\r\n",
      "            8084932,\r\n",
      "            10313274,\r\n",
      "            9874156,\r\n",
      "            9916428,\r\n",
      "            11439705,\r\n",
      "            10357545,\r\n",
      "            11605351,\r\n",
      "            9229776,\r\n",
      "            11013662,\r\n",
      "            10269381,\r\n",
      "            9664881,\r\n",
      "            9775638,\r\n",
      "            11809222,\r\n",
      "            10716895,\r\n",
      "            11433304,\r\n",
      "            8718044,\r\n",
      "            10796195,\r\n",
      "            12165479,\r\n",
      "            10559774,\r\n",
      "            11592871,\r\n",
      "            10822369,\r\n",
      "            13112623,\r\n",
      "            5026837,\r\n",
      "            9702149,\r\n",
      "            10274210,\r\n",
      "            12349601,\r\n",
      "            6848491,\r\n",
      "            10076176,\r\n",
      "            10360913,\r\n",
      "            8368801,\r\n",
      "            12278339,\r\n",
      "            8324668,\r\n",
      "            11500892,\r\n",
      "            11352898,\r\n",
      "            6431072,\r\n",
      "            10817653,\r\n",
      "            11060961,\r\n",
      "            8886884,\r\n",
      "            11795066,\r\n",
      "            10439343,\r\n",
      "            10307311,\r\n",
      "            10310476,\r\n",
      "            10856809\r\n",
      "        ],\r\n",
      "        \"output_1\": [\r\n",
      "            0.290558487,\r\n",
      "            0.201548368,\r\n",
      "            0.185583025,\r\n",
      "            0.178680971,\r\n",
      "            0.126421332,\r\n",
      "            0.118213557,\r\n",
      "            0.100962028,\r\n",
      "            0.0814888,\r\n",
      "            0.0801038072,\r\n",
      "            0.0791109502,\r\n",
      "            0.0732019916,\r\n",
      "            0.0679574758,\r\n",
      "            0.0668734461,\r\n",
      "            0.0660421103,\r\n",
      "            0.0653559417,\r\n",
      "            0.0634808764,\r\n",
      "            0.0605155043,\r\n",
      "            0.0599589199,\r\n",
      "            0.0595023893,\r\n",
      "            0.0590692274,\r\n",
      "            0.0579926819,\r\n",
      "            0.0563958101,\r\n",
      "            0.0555025823,\r\n",
      "            0.0551809371,\r\n",
      "            0.0528718829,\r\n",
      "            0.0500181876,\r\n",
      "            0.0482450239,\r\n",
      "            0.04686765,\r\n",
      "            0.0437349081,\r\n",
      "            0.0430484861,\r\n",
      "            0.0428846963,\r\n",
      "            0.0427411683,\r\n",
      "            0.0417181924,\r\n",
      "            0.0416032523,\r\n",
      "            0.041555088,\r\n",
      "            0.0412109047,\r\n",
      "            0.0410734676,\r\n",
      "            0.0407345183,\r\n",
      "            0.040162351,\r\n",
      "            0.04015214,\r\n",
      "            0.0400990285,\r\n",
      "            0.0400093198,\r\n",
      "            0.0393999405,\r\n",
      "            0.0392666422,\r\n",
      "            0.0392287783,\r\n",
      "            0.0387421027,\r\n",
      "            0.0382531099,\r\n",
      "            0.0377240628,\r\n",
      "            0.037231639,\r\n",
      "            0.0369469784,\r\n",
      "            0.0364136882,\r\n",
      "            0.0362861976,\r\n",
      "            0.0361800045,\r\n",
      "            0.0358057432,\r\n",
      "            0.0356427841,\r\n",
      "            0.0356204174,\r\n",
      "            0.0350751318,\r\n",
      "            0.0350294411,\r\n",
      "            0.0348484814,\r\n",
      "            0.0348261259,\r\n",
      "            0.034554258,\r\n",
      "            0.0344736353,\r\n",
      "            0.0339568146,\r\n",
      "            0.0337580554,\r\n",
      "            0.0336159877,\r\n",
      "            0.0334430039,\r\n",
      "            0.0332752876,\r\n",
      "            0.0330302864,\r\n",
      "            0.0330250971,\r\n",
      "            0.0328930579,\r\n",
      "            0.0325619876,\r\n",
      "            0.0322993174,\r\n",
      "            0.0320462435,\r\n",
      "            0.0320377462,\r\n",
      "            0.0315952562,\r\n",
      "            0.0314159,\r\n",
      "            0.031350486,\r\n",
      "            0.0313026,\r\n",
      "            0.0306703039,\r\n",
      "            0.0303072333,\r\n",
      "            0.0302415621,\r\n",
      "            0.0299954861,\r\n",
      "            0.0298933983,\r\n",
      "            0.0298303626,\r\n",
      "            0.0295280516,\r\n",
      "            0.0294393487,\r\n",
      "            0.0290357787,\r\n",
      "            0.0288202837,\r\n",
      "            0.0287433024,\r\n",
      "            0.0286988318,\r\n",
      "            0.0285177622,\r\n",
      "            0.0280448943,\r\n",
      "            0.0278638173,\r\n",
      "            0.0277366824,\r\n",
      "            0.0275634434,\r\n",
      "            0.0274605788,\r\n",
      "            0.0274148267,\r\n",
      "            0.0273083,\r\n",
      "            0.0271358974,\r\n",
      "            0.0269603021\r\n",
      "        ]\r\n",
      "    }\r\n",
      "}"
     ]
    }
   ],
   "source": [
    "# Run docker image via compose for tf serving  - this uses the docker nameed host in the compose file for the URL\n",
    "\n",
    "# This doesnt specify a version\n",
    "\n",
    "!curl --header \"Content-Type: application/json\" --request POST --data \\\n",
    "'{\"signature_name\":\"call_item_item\",\"inputs\": {\"product\": [8650774] } }' \\\n",
    "http://serving:8501/v1/models/recommender:predict\n",
    "            \n",
    "            \n",
    "            \n",
    "            "
   ]
  },
  {
   "cell_type": "code",
   "execution_count": 38,
   "metadata": {},
   "outputs": [
    {
     "name": "stdout",
     "output_type": "stream",
     "text": [
      "{\r\n",
      "    \"outputs\": {\r\n",
      "        \"output_0\": [\r\n",
      "            10573792,\r\n",
      "            10377022,\r\n",
      "            8927118,\r\n",
      "            10125462,\r\n",
      "            11235575,\r\n",
      "            11378722,\r\n",
      "            8569920,\r\n",
      "            10487343,\r\n",
      "            8941836,\r\n",
      "            11001554,\r\n",
      "            10893005,\r\n",
      "            10490457,\r\n",
      "            13329218,\r\n",
      "            8957032,\r\n",
      "            8544789,\r\n",
      "            10281224,\r\n",
      "            11041042,\r\n",
      "            8868237,\r\n",
      "            11569183,\r\n",
      "            10461357,\r\n",
      "            11469608,\r\n",
      "            9903983,\r\n",
      "            7425915,\r\n",
      "            10571252,\r\n",
      "            12083964,\r\n",
      "            10448772,\r\n",
      "            9049133,\r\n",
      "            11480528,\r\n",
      "            11435199,\r\n",
      "            8868217,\r\n",
      "            12110753,\r\n",
      "            10811863,\r\n",
      "            11588051,\r\n",
      "            9931362,\r\n",
      "            10313006,\r\n",
      "            10813740,\r\n",
      "            10339348,\r\n",
      "            12062383,\r\n",
      "            11702309,\r\n",
      "            9565435,\r\n",
      "            11393435,\r\n",
      "            11235579,\r\n",
      "            8762333,\r\n",
      "            11730173,\r\n",
      "            11731148,\r\n",
      "            11429863,\r\n",
      "            10439338,\r\n",
      "            8840743,\r\n",
      "            9130152,\r\n",
      "            10506983,\r\n",
      "            11745352,\r\n",
      "            10691877,\r\n",
      "            12154928,\r\n",
      "            10970833,\r\n",
      "            10338002,\r\n",
      "            10389084,\r\n",
      "            11822515,\r\n",
      "            12150462,\r\n",
      "            10490474,\r\n",
      "            8972429,\r\n",
      "            11736768,\r\n",
      "            10647908,\r\n",
      "            11730179,\r\n",
      "            10407147,\r\n",
      "            11953072,\r\n",
      "            12667678,\r\n",
      "            12021421,\r\n",
      "            10909750,\r\n",
      "            11910031,\r\n",
      "            10566525,\r\n",
      "            11261330,\r\n",
      "            10328208,\r\n",
      "            10974491,\r\n",
      "            10577468,\r\n",
      "            10274206,\r\n",
      "            10584273,\r\n",
      "            11392372,\r\n",
      "            10845056,\r\n",
      "            8978987,\r\n",
      "            10339347,\r\n",
      "            10158662,\r\n",
      "            10738313,\r\n",
      "            12039919,\r\n",
      "            10167975,\r\n",
      "            12202715,\r\n",
      "            10487341,\r\n",
      "            11574732,\r\n",
      "            10971954,\r\n",
      "            12507832,\r\n",
      "            10493215,\r\n",
      "            12449121,\r\n",
      "            10148562,\r\n",
      "            9629384,\r\n",
      "            9192105,\r\n",
      "            9664886,\r\n",
      "            13237151,\r\n",
      "            11235256,\r\n",
      "            12485097,\r\n",
      "            11356046,\r\n",
      "            11647980\r\n",
      "        ],\r\n",
      "        \"output_1\": [\r\n",
      "            4.63306284,\r\n",
      "            4.42257309,\r\n",
      "            4.28881216,\r\n",
      "            4.21863317,\r\n",
      "            3.97962213,\r\n",
      "            3.970366,\r\n",
      "            3.83539033,\r\n",
      "            3.7708652,\r\n",
      "            3.61897945,\r\n",
      "            3.61864376,\r\n",
      "            3.60701728,\r\n",
      "            3.60184598,\r\n",
      "            3.58562708,\r\n",
      "            3.50211406,\r\n",
      "            3.47732735,\r\n",
      "            3.39862418,\r\n",
      "            3.3968761,\r\n",
      "            3.36611056,\r\n",
      "            3.34188509,\r\n",
      "            3.33371735,\r\n",
      "            3.32667017,\r\n",
      "            3.31572461,\r\n",
      "            3.29286718,\r\n",
      "            3.29275489,\r\n",
      "            3.2633574,\r\n",
      "            3.24460101,\r\n",
      "            3.22834134,\r\n",
      "            3.22483182,\r\n",
      "            3.20912671,\r\n",
      "            3.18313336,\r\n",
      "            3.17456365,\r\n",
      "            3.16321063,\r\n",
      "            3.16237831,\r\n",
      "            3.15368581,\r\n",
      "            3.15168953,\r\n",
      "            3.10673952,\r\n",
      "            3.1045,\r\n",
      "            3.09819603,\r\n",
      "            3.09059453,\r\n",
      "            3.08840299,\r\n",
      "            3.05468631,\r\n",
      "            3.04184818,\r\n",
      "            3.02116323,\r\n",
      "            2.99118614,\r\n",
      "            2.9827714,\r\n",
      "            2.98129058,\r\n",
      "            2.97240019,\r\n",
      "            2.97235441,\r\n",
      "            2.96750116,\r\n",
      "            2.96337175,\r\n",
      "            2.94568944,\r\n",
      "            2.94521666,\r\n",
      "            2.94239902,\r\n",
      "            2.93464613,\r\n",
      "            2.93248129,\r\n",
      "            2.91993022,\r\n",
      "            2.91668463,\r\n",
      "            2.91162252,\r\n",
      "            2.90859699,\r\n",
      "            2.89787722,\r\n",
      "            2.8953979,\r\n",
      "            2.89321876,\r\n",
      "            2.89128113,\r\n",
      "            2.88961172,\r\n",
      "            2.88209391,\r\n",
      "            2.87409401,\r\n",
      "            2.87152767,\r\n",
      "            2.86367893,\r\n",
      "            2.86103749,\r\n",
      "            2.85620356,\r\n",
      "            2.85205746,\r\n",
      "            2.84040523,\r\n",
      "            2.83992863,\r\n",
      "            2.83872318,\r\n",
      "            2.83492327,\r\n",
      "            2.83460879,\r\n",
      "            2.82741928,\r\n",
      "            2.82348561,\r\n",
      "            2.82022643,\r\n",
      "            2.81534147,\r\n",
      "            2.80864739,\r\n",
      "            2.80024791,\r\n",
      "            2.80018902,\r\n",
      "            2.7949388,\r\n",
      "            2.7901597,\r\n",
      "            2.7823782,\r\n",
      "            2.78005815,\r\n",
      "            2.77979708,\r\n",
      "            2.77823591,\r\n",
      "            2.77815604,\r\n",
      "            2.77761841,\r\n",
      "            2.77431703,\r\n",
      "            2.76802516,\r\n",
      "            2.76737595,\r\n",
      "            2.76582026,\r\n",
      "            2.76388502,\r\n",
      "            2.76239777,\r\n",
      "            2.75555801,\r\n",
      "            2.75318074,\r\n",
      "            2.74957705\r\n",
      "        ]\r\n",
      "    }\r\n",
      "}"
     ]
    }
   ],
   "source": [
    "# run a specific served version via version number  e.g v3 /versions/3\n",
    "\n",
    "\n",
    "!curl --header \"Content-Type: application/json\" --request POST --data \\\n",
    "'{\"signature_name\":\"call_item_item\",\"inputs\": {\"product\": [8650774] } }' \\\n",
    "http://serving:8501/v1/models/recommender/versions/3:predict\n",
    "            \n",
    "            \n",
    "            \n",
    "            "
   ]
  },
  {
   "cell_type": "code",
   "execution_count": 33,
   "metadata": {},
   "outputs": [
    {
     "name": "stdout",
     "output_type": "stream",
     "text": [
      "{\r\n",
      "    \"outputs\": {\r\n",
      "        \"output_0\": [\r\n",
      "            8650774,\r\n",
      "            10076866,\r\n",
      "            10385896,\r\n",
      "            10489436,\r\n",
      "            10472064,\r\n",
      "            12280078,\r\n",
      "            11976884,\r\n",
      "            9693739,\r\n",
      "            6430186,\r\n",
      "            10871563,\r\n",
      "            11532312,\r\n",
      "            12450271,\r\n",
      "            10067263,\r\n",
      "            11181654,\r\n",
      "            9168531,\r\n",
      "            11261344,\r\n",
      "            10194173,\r\n",
      "            10733129,\r\n",
      "            11805803,\r\n",
      "            12125622,\r\n",
      "            9693744,\r\n",
      "            13175230,\r\n",
      "            10453708,\r\n",
      "            7273376,\r\n",
      "            12015387,\r\n",
      "            10175964,\r\n",
      "            10447253,\r\n",
      "            11532307,\r\n",
      "            8691401,\r\n",
      "            9835456,\r\n",
      "            12070254,\r\n",
      "            9097969,\r\n",
      "            12996329,\r\n",
      "            10837303,\r\n",
      "            10281094,\r\n",
      "            11131515,\r\n",
      "            10315599,\r\n",
      "            10143117,\r\n",
      "            10306064,\r\n",
      "            11822512,\r\n",
      "            9287334,\r\n",
      "            10634180,\r\n",
      "            11144068,\r\n",
      "            10632340,\r\n",
      "            13005681,\r\n",
      "            10783965,\r\n",
      "            10300603,\r\n",
      "            8390029,\r\n",
      "            10298955,\r\n",
      "            11647015,\r\n",
      "            8606651,\r\n",
      "            10533446,\r\n",
      "            9903983,\r\n",
      "            9068159,\r\n",
      "            8678087,\r\n",
      "            11101484,\r\n",
      "            8957031,\r\n",
      "            10366078,\r\n",
      "            12672826,\r\n",
      "            9812191,\r\n",
      "            11372428,\r\n",
      "            10835848,\r\n",
      "            10857447,\r\n",
      "            12377498,\r\n",
      "            9172947,\r\n",
      "            10506971,\r\n",
      "            10562678,\r\n",
      "            11712571,\r\n",
      "            10012387,\r\n",
      "            11905585,\r\n",
      "            10123162,\r\n",
      "            10846401,\r\n",
      "            9978501,\r\n",
      "            10124721,\r\n",
      "            10116464,\r\n",
      "            8254835,\r\n",
      "            11783310,\r\n",
      "            11696126,\r\n",
      "            9994164,\r\n",
      "            10782292,\r\n",
      "            11428994,\r\n",
      "            10069711,\r\n",
      "            10415486,\r\n",
      "            12668583,\r\n",
      "            9331049,\r\n",
      "            9375207,\r\n",
      "            10432694,\r\n",
      "            11479896,\r\n",
      "            11602914,\r\n",
      "            12914507,\r\n",
      "            11527516,\r\n",
      "            10273719,\r\n",
      "            11981896,\r\n",
      "            11709621,\r\n",
      "            9884933,\r\n",
      "            11406620,\r\n",
      "            12973412,\r\n",
      "            11160081,\r\n",
      "            12386554,\r\n",
      "            12599669\r\n",
      "        ],\r\n",
      "        \"output_1\": [\r\n",
      "            11.4065542,\r\n",
      "            10.7493563,\r\n",
      "            9.96109295,\r\n",
      "            9.90467453,\r\n",
      "            9.81294727,\r\n",
      "            9.63306236,\r\n",
      "            9.60795403,\r\n",
      "            9.17864323,\r\n",
      "            9.13593,\r\n",
      "            8.95531082,\r\n",
      "            8.93238449,\r\n",
      "            8.92244434,\r\n",
      "            8.8845892,\r\n",
      "            8.8393631,\r\n",
      "            8.72872448,\r\n",
      "            8.71813869,\r\n",
      "            8.66901875,\r\n",
      "            8.64066315,\r\n",
      "            8.60072803,\r\n",
      "            8.60062218,\r\n",
      "            8.58403301,\r\n",
      "            8.50891304,\r\n",
      "            8.35632324,\r\n",
      "            8.35236549,\r\n",
      "            8.34186745,\r\n",
      "            8.33279514,\r\n",
      "            8.27087498,\r\n",
      "            8.26006889,\r\n",
      "            8.23271656,\r\n",
      "            8.23173,\r\n",
      "            8.18883324,\r\n",
      "            8.15816116,\r\n",
      "            8.14930058,\r\n",
      "            8.12903309,\r\n",
      "            8.12805176,\r\n",
      "            8.11356926,\r\n",
      "            8.03692818,\r\n",
      "            7.99004,\r\n",
      "            7.9795661,\r\n",
      "            7.94299173,\r\n",
      "            7.93761921,\r\n",
      "            7.90312862,\r\n",
      "            7.89964437,\r\n",
      "            7.80512619,\r\n",
      "            7.79751301,\r\n",
      "            7.79378796,\r\n",
      "            7.78314352,\r\n",
      "            7.77311563,\r\n",
      "            7.74134254,\r\n",
      "            7.73665524,\r\n",
      "            7.72568417,\r\n",
      "            7.71755409,\r\n",
      "            7.67696667,\r\n",
      "            7.64815426,\r\n",
      "            7.63058233,\r\n",
      "            7.62424374,\r\n",
      "            7.59898281,\r\n",
      "            7.59307098,\r\n",
      "            7.58500433,\r\n",
      "            7.58234024,\r\n",
      "            7.57661533,\r\n",
      "            7.56675386,\r\n",
      "            7.56317043,\r\n",
      "            7.54797173,\r\n",
      "            7.54592276,\r\n",
      "            7.54095,\r\n",
      "            7.53861523,\r\n",
      "            7.53823042,\r\n",
      "            7.52841854,\r\n",
      "            7.5273366,\r\n",
      "            7.51791334,\r\n",
      "            7.50708771,\r\n",
      "            7.50574875,\r\n",
      "            7.48769236,\r\n",
      "            7.4726162,\r\n",
      "            7.44479752,\r\n",
      "            7.43041611,\r\n",
      "            7.42963791,\r\n",
      "            7.42464685,\r\n",
      "            7.41916,\r\n",
      "            7.41456747,\r\n",
      "            7.41107035,\r\n",
      "            7.40166378,\r\n",
      "            7.3996892,\r\n",
      "            7.39844,\r\n",
      "            7.38654327,\r\n",
      "            7.3765564,\r\n",
      "            7.34760666,\r\n",
      "            7.34609461,\r\n",
      "            7.31236029,\r\n",
      "            7.30964279,\r\n",
      "            7.30843496,\r\n",
      "            7.28428841,\r\n",
      "            7.27366257,\r\n",
      "            7.26919,\r\n",
      "            7.25527906,\r\n",
      "            7.24137545,\r\n",
      "            7.23536301,\r\n",
      "            7.20741653,\r\n",
      "            7.20634127\r\n",
      "        ]\r\n",
      "    }\r\n",
      "}"
     ]
    }
   ],
   "source": [
    "# run a specific served version by version name  - this one uses prod label as defined in models config\n",
    "# e.g dev version /labels/dev\n",
    "\n",
    "!curl --header \"Content-Type: application/json\" --request POST --data \\\n",
    "'{\"signature_name\":\"call_item_item\",\"inputs\": {\"product\": [8650774] } }' \\\n",
    "http://serving:8501/v1/models/recommender/labels/dev:predict\n",
    "\n",
    "            \n",
    "            "
   ]
  },
  {
   "cell_type": "code",
   "execution_count": null,
   "metadata": {},
   "outputs": [],
   "source": []
  },
  {
   "cell_type": "markdown",
   "metadata": {},
   "source": [
    "Zip up the models file "
   ]
  },
  {
   "cell_type": "markdown",
   "metadata": {
    "id": "GQN8qKDl3Uum"
   },
   "source": [
    "Zipping the saved model will make it easier to download."
   ]
  },
  {
   "cell_type": "code",
   "execution_count": 35,
   "metadata": {
    "id": "-UkWFHEr3Uum"
   },
   "outputs": [],
   "source": [
    "from zipfile import ZipFile\n",
    "import os\n",
    "# create a ZipFile object\n",
    "with ZipFile('recommender.zip', 'w') as zipObj:\n",
    "   # Iterate over all the files in directory\n",
    "    for folderName, subfolders, filenames in os.walk(\"models\"):\n",
    "        for filename in filenames:\n",
    "           #create complete filepath of file in directory\n",
    "           filePath = os.path.join(folderName, filename)\n",
    "           # Add file to zip\n",
    "           zipObj.write(filePath)"
   ]
  },
  {
   "cell_type": "code",
   "execution_count": null,
   "metadata": {},
   "outputs": [],
   "source": []
  }
 ],
 "metadata": {
  "accelerator": "GPU",
  "colab": {
   "collapsed_sections": [],
   "name": "Copy of DSF-ASOS_Build_and_Deploy_a_Recommender_in_3_Hours.ipynb",
   "provenance": []
  },
  "kernelspec": {
   "display_name": "Python 3",
   "language": "python",
   "name": "python3"
  },
  "language_info": {
   "codemirror_mode": {
    "name": "ipython",
    "version": 3
   },
   "file_extension": ".py",
   "mimetype": "text/x-python",
   "name": "python",
   "nbconvert_exporter": "python",
   "pygments_lexer": "ipython3",
   "version": "3.6.9"
  }
 },
 "nbformat": 4,
 "nbformat_minor": 1
}
